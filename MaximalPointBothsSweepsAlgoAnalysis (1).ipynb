{
  "nbformat": 4,
  "nbformat_minor": 0,
  "metadata": {
    "colab": {
      "provenance": []
    },
    "kernelspec": {
      "name": "python3",
      "display_name": "Python 3"
    },
    "language_info": {
      "name": "python"
    }
  },
  "cells": [
    {
      "cell_type": "code",
      "execution_count": 72,
      "metadata": {
        "id": "K_-aB2RbTm3u"
      },
      "outputs": [],
      "source": [
        "import random\n",
        "import matplotlib.pyplot as plt"
      ]
    },
    {
      "cell_type": "code",
      "source": [
        "# data = [(11,8),(33,6),(24,3),(44,1),(55,7),(61,4),(53,4),(62,6),(72,2)]\n",
        "# data = [(9,8),(9,2),(8,3),(7,4),(6,5),(5,6),(4,7),(3,8),(2,9),(-1,10),(3,3),(5,5),(6,6),(-10,8),(-18,65),(1,10),(23,22)]"
      ],
      "metadata": {
        "id": "CByNX_eJV3tn"
      },
      "execution_count": 64,
      "outputs": []
    },
    {
      "cell_type": "markdown",
      "source": [
        "1.**Right to left variant implementation**"
      ],
      "metadata": {
        "id": "B_PRkacpgOb1"
      }
    },
    {
      "cell_type": "code",
      "source": [
        "# Initialize a global list to store the number of comparisons made in each function call\n",
        "comprison_list_rl = []\n",
        "\n",
        "# Define a function to find the maximal right-to-left points\n",
        "def maximalR2L(data):\n",
        "    # Access the global comparison list\n",
        "    global comprison_list_rl\n",
        "\n",
        "    # Sort the input data based on the x-coordinate in descending order\n",
        "    sorted_points = sorted(data, key=lambda point: point[0], reverse=True)\n",
        "\n",
        "    # Get the total number of points in the sorted list\n",
        "    n = len(sorted_points)\n",
        "\n",
        "    # Initialize a list to store the maximal points\n",
        "    result = [sorted_points[0]]\n",
        "\n",
        "    # Initialize a variable to count the number of comparisons\n",
        "    comparison = 0\n",
        "\n",
        "    # Iterate through the sorted points starting from the second point\n",
        "    i = 1\n",
        "    while i < n:\n",
        "        # Increment the comparison count for each iteration\n",
        "        comparison += 1\n",
        "\n",
        "        # Extract the x and y coordinates of the current point\n",
        "        x, y = sorted_points[i]\n",
        "\n",
        "        # Check if the y-coordinate of the current point is greater than the last point in the result\n",
        "        if y > result[-1][1]:\n",
        "            # If true, add the current point to the result list\n",
        "            result.append((x, y))\n",
        "\n",
        "        # Move to the next point in the sorted list\n",
        "        i += 1\n",
        "\n",
        "    # Append the total number of comparisons made to the global list\n",
        "    comprison_list_rl.append(comparison)\n",
        "\n",
        "    # Print the number of comparisons made in this function call\n",
        "    print(\"The Number of comparison is: \", comparison)\n",
        "\n",
        "    # Return the list of maximal points\n",
        "    return result\n"
      ],
      "metadata": {
        "id": "MIgUjo-TTnvl"
      },
      "execution_count": 73,
      "outputs": []
    },
    {
      "cell_type": "code",
      "source": [
        "# print(maximalR2L(data))"
      ],
      "metadata": {
        "id": "NCz1bbBQVuwR"
      },
      "execution_count": 66,
      "outputs": []
    },
    {
      "cell_type": "markdown",
      "source": [
        "2.**Left to Right variant Implementation**"
      ],
      "metadata": {
        "id": "NgKE2WI7gav2"
      }
    },
    {
      "cell_type": "code",
      "source": [
        "# Initialize a global list to store the number of comparisons made in each function call\n",
        "comprison_list_lr = []\n",
        "\n",
        "# Define a function to find the maximal left-to-right points\n",
        "def maximalL2R(data):\n",
        "    # Access the global comparison list\n",
        "    global comprison_list_lr\n",
        "\n",
        "    # Sort the input data based on the x-coordinate in ascending order\n",
        "    sorted_points = sorted(data, key=lambda point: point[0])\n",
        "\n",
        "    # Get the total number of points in the sorted list\n",
        "    n = len(sorted_points)\n",
        "\n",
        "    # Initialize a list to store the maximal points\n",
        "    result = [sorted_points[0]]\n",
        "\n",
        "    # Initialize the comparison counter\n",
        "    comparison = 0\n",
        "\n",
        "    # Iterate through the sorted points starting from the second point\n",
        "    i = 1\n",
        "    while i < n:\n",
        "        # Increment the comparison count for each iteration\n",
        "        comparison += 1\n",
        "\n",
        "        # Extract the x and y coordinates of the current point\n",
        "        x, y = sorted_points[i]\n",
        "\n",
        "        # Check if the y-coordinate of the current point is greater than the last point in the result\n",
        "        if y > result[-1][1]:\n",
        "            # Remove points from the result list until a point with a lower y-coordinate is encountered\n",
        "            while len(result) > 0:\n",
        "                comparison += 1\n",
        "                if y > result[-1][1]:\n",
        "                    result.pop()\n",
        "                else:\n",
        "                    break\n",
        "\n",
        "            # Add the current point to the result list\n",
        "            result.append((x, y))\n",
        "        else:\n",
        "            # If the y-coordinate is not greater, simply add the current point to the result list\n",
        "            result.append((x, y))\n",
        "\n",
        "        # Move to the next point in the sorted list\n",
        "        i += 1\n",
        "\n",
        "    # Append the total number of comparisons made to the global list\n",
        "    comprison_list_lr.append(comparison)\n",
        "\n",
        "    # Print the number of comparisons made in this function call\n",
        "    print(\"The Number of comparison is: \", comparison)\n",
        "\n",
        "    # Return the list of maximal points\n",
        "    return result"
      ],
      "metadata": {
        "id": "u9YdRClCTq05"
      },
      "execution_count": 67,
      "outputs": []
    },
    {
      "cell_type": "code",
      "source": [
        "# print(maximalL2R(data))"
      ],
      "metadata": {
        "id": "hIogj9sNWddi"
      },
      "execution_count": 68,
      "outputs": []
    },
    {
      "cell_type": "code",
      "source": [
        "import random\n",
        "\n",
        "# Define a function to generate a list of random points\n",
        "def generate_random_points(num_points):\n",
        "    # Set the minimum and maximum coordinates for the random points\n",
        "    min_coord = 0\n",
        "    max_coord = num_points\n",
        "\n",
        "    # Initialize an empty list to store the generated points\n",
        "    points = []\n",
        "\n",
        "    # Generate random (x, y) coordinates for the specified number of points\n",
        "    for _ in range(num_points):\n",
        "        x = random.randint(min_coord, max_coord)\n",
        "        y = random.randint(min_coord, max_coord)\n",
        "        points.append((x, y))\n",
        "\n",
        "    # Call the maximalL2R function with the generated points\n",
        "    maximalL2R(points)\n",
        "\n",
        "    # Call the maximalR2L function with the generated points\n",
        "    maximalR2L(points)\n",
        "\n",
        "    # No need to return anything as the functions print their results\n",
        "    return\n"
      ],
      "metadata": {
        "id": "MBTZo6XUTziw"
      },
      "execution_count": 69,
      "outputs": []
    },
    {
      "cell_type": "code",
      "source": [
        "num = []\n",
        "for i in range(25,1000,10):\n",
        "    num.append(i)\n",
        "    generate_random_points(i)"
      ],
      "metadata": {
        "id": "Y8fXeutET4hf"
      },
      "execution_count": null,
      "outputs": []
    },
    {
      "cell_type": "markdown",
      "source": [
        "**Comparison between these to algorithms**"
      ],
      "metadata": {
        "id": "PeF9yJZRgpzd"
      }
    },
    {
      "cell_type": "code",
      "source": [
        "plt.scatter(num, comprison_list_lr, label='Left to Right Sweep')\n",
        "plt.scatter(num, comprison_list_rl, label='Right to Left Sweep')\n",
        "plt.xlabel('Number of Input')\n",
        "plt.ylabel('Number of Comparison')\n",
        "plt.legend()\n",
        "plt.show()"
      ],
      "metadata": {
        "colab": {
          "base_uri": "https://localhost:8080/",
          "height": 449
        },
        "id": "ksHhzMz9T5Ur",
        "outputId": "bb3cfc40-f74b-4830-b4ab-0b85970d6fc3"
      },
      "execution_count": 71,
      "outputs": [
        {
          "output_type": "display_data",
          "data": {
            "text/plain": [
              "<Figure size 640x480 with 1 Axes>"
            ],
            "image/png": "[encoded data removed]"
          },
          "metadata": {}
        }
      ]
    }
  ]
}